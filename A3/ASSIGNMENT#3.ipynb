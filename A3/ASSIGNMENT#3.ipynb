{
 "cells": [
  {
   "cell_type": "code",
   "execution_count": 1,
   "id": "10264caf",
   "metadata": {},
   "outputs": [
    {
     "name": "stdout",
     "output_type": "stream",
     "text": [
      "Twinkle, twinkle, little star,\n",
      "            How I wonder what you are!\n",
      "                  Up above the world so high,\n",
      "                  Like a diamond in the sky.\n",
      "Twinkle, twinkle, little star,\n",
      "            How I wonder what you are\n"
     ]
    }
   ],
   "source": [
    "#Q1. Write a python program to print the string in specific format.\n",
    "print(\"Twinkle, twinkle, little star,\\n            How I wonder what you are!\\n                  Up above the world so high,\\n                  Like a diamond in the sky.\\nTwinkle, twinkle, little star,\\n            How I wonder what you are\");"
   ]
  },
  {
   "cell_type": "code",
   "execution_count": 2,
   "id": "4c6602b5",
   "metadata": {},
   "outputs": [
    {
     "name": "stdout",
     "output_type": "stream",
     "text": [
      "Python Version\n",
      "3.8.8 (default, Apr 13 2021, 15:08:03) [MSC v.1916 64 bit (AMD64)]\n",
      "Version info.\n",
      "sys.version_info(major=3, minor=8, micro=8, releaselevel='final', serial=0)\n"
     ]
    }
   ],
   "source": [
    "# Q2.Write a python program to get the python version you are using\n",
    "import sys\n",
    "print(\"Python Version\");\n",
    "print(sys.version)\n",
    "print(\"Version info.\")\n",
    "print(sys.version_info)"
   ]
  },
  {
   "cell_type": "code",
   "execution_count": 3,
   "id": "49946ef5",
   "metadata": {},
   "outputs": [
    {
     "name": "stdout",
     "output_type": "stream",
     "text": [
      "Current date and time : \n",
      "2021-10-22 06:02:16\n"
     ]
    }
   ],
   "source": [
    "# Q3.Write a python program to display current date and time \n",
    "import datetime\n",
    "now = datetime.datetime.now()\n",
    "print(\"Current date and time : \")\n",
    "print(now.strftime(\"%Y-%m-%d %H:%M:%S\"))"
   ]
  },
  {
   "cell_type": "code",
   "execution_count": 4,
   "id": "481709db",
   "metadata": {},
   "outputs": [
    {
     "name": "stdout",
     "output_type": "stream",
     "text": [
      "Enter the value of the radius24\n",
      "1808.64\n"
     ]
    }
   ],
   "source": [
    "# Q4.Write a python program which accpets the radius of a circle from a user and compute the area\n",
    "Radius = int(input(\"Enter the value of the radius\"));\n",
    "Pi = 3.14\n",
    "Area = Pi*Radius**2;\n",
    "print(Area);"
   ]
  },
  {
   "cell_type": "code",
   "execution_count": 5,
   "id": "9e10751d",
   "metadata": {},
   "outputs": [
    {
     "name": "stdout",
     "output_type": "stream",
     "text": [
      "Input your first name : zahra\n",
      "Input your last name: mubeen\n",
      "Hello mubeen zahra\n"
     ]
    }
   ],
   "source": [
    "#Q5. Write a python program which accepts user's first and last name and print them in reverse order with a space in between them.\n",
    "Firstname = input(\"Input your first name : \");\n",
    "Lastname = input(\"Input your last name: \");\n",
    "print(\"Hello \" + Lastname + \" \" + Firstname);"
   ]
  },
  {
   "cell_type": "code",
   "execution_count": 6,
   "id": "c7de467e",
   "metadata": {},
   "outputs": [
    {
     "name": "stdout",
     "output_type": "stream",
     "text": [
      "Enter first value: 30\n",
      "Enter second value: 40\n",
      "sum:  70\n"
     ]
    }
   ],
   "source": [
    "#Q6. Write a python program which takes two inputs from user and print their addition.\n",
    "a = int(input(\"Enter first value: \"));\n",
    "b = int(input(\"Enter second value: \"));\n",
    "sum = a+b;\n",
    "print(\"sum: \",sum);"
   ]
  },
  {
   "cell_type": "code",
   "execution_count": 7,
   "id": "6fc3a9e6",
   "metadata": {},
   "outputs": [
    {
     "name": "stdout",
     "output_type": "stream",
     "text": [
      "Enter english marks: 67\n",
      "Enter maths marks: 89\n",
      "Enter urdu marks: 58\n",
      "Enter islamiat marks: 87\n",
      "Enter science marks: 55\n",
      "A\n"
     ]
    }
   ],
   "source": [
    "#Q7. Write a python program which takes five inputs from user for different subject's marks, total it and generate marksheet using grades.\n",
    "Eng = int(input(\"Enter english marks: \"));\n",
    "Maths = int(input(\"Enter maths marks: \"));\n",
    "Urdu = int(input(\"Enter urdu marks: \"));\n",
    "Islamiat = int(input(\"Enter islamiat marks: \"));\n",
    "Science = int(input(\"Enter science marks: \"));\n",
    "total = 500;\n",
    "percent = (Eng + Maths + Urdu + Islamiat + Science)/total*100;\n",
    "if percent < 100 and percent >=80:\n",
    "    print(\"A+\");\n",
    "elif percent < 80 and percent >=70:\n",
    "    print(\"A\");\n",
    "elif percent < 70 and percent >=60:\n",
    "    print(\"B\");\n",
    "elif percent < 60 and percent >=50:\n",
    "    print(\"C\"); \n",
    "elif percent < 50 and percent >=40:\n",
    "    print(\"D\");\n",
    "elif percent < 40 and percent >=33:\n",
    "    print(\"E\");\n",
    "else: \n",
    "    print(\"Fail\");"
   ]
  },
  {
   "cell_type": "code",
   "execution_count": 8,
   "id": "5f8cf2d0",
   "metadata": {},
   "outputs": [
    {
     "name": "stdout",
     "output_type": "stream",
     "text": [
      "Enter any number: 6\n",
      "This is an even number.\n"
     ]
    }
   ],
   "source": [
    "#Q8. Write a program which takes input from user and identify that the given number is even or odd.\n",
    "num = int(input(\"Enter any number: \"));\n",
    "mod = num % 2;\n",
    "if mod > 0:\n",
    "    print(\"This is an odd number.\");\n",
    "else:\n",
    "    print(\"This is an even number.\");"
   ]
  },
  {
   "cell_type": "code",
   "execution_count": 9,
   "id": "40776c43",
   "metadata": {},
   "outputs": [
    {
     "name": "stdout",
     "output_type": "stream",
     "text": [
      "Number of items in the list:  5\n"
     ]
    }
   ],
   "source": [
    "#Q9. Write a python program to find the length of the list.\n",
    "listName = [\"alina\",\"farooq\",\"ali\",\"zameer\",\"honain\"]\n",
    "print(\"Number of items in the list: \", len(listName));"
   ]
  },
  {
   "cell_type": "code",
   "execution_count": 10,
   "id": "3f8b85b2",
   "metadata": {},
   "outputs": [
    {
     "name": "stdout",
     "output_type": "stream",
     "text": [
      "-6\n"
     ]
    }
   ],
   "source": [
    "#Q10. Write a program to sum all the numeric items ina a list.\n",
    "def sum_list(items):\n",
    "    sum_numbers = 0\n",
    "    for x in items:\n",
    "        sum_numbers += x\n",
    "    return sum_numbers\n",
    "print(sum_list([1,2,-9]));"
   ]
  },
  {
   "cell_type": "code",
   "execution_count": 11,
   "id": "d3bca356",
   "metadata": {},
   "outputs": [
    {
     "name": "stdout",
     "output_type": "stream",
     "text": [
      "8\n"
     ]
    }
   ],
   "source": [
    "#Q11. Write a program to get the largest number from a numeric list.\n",
    "def max_num_in_list(list):\n",
    "    max = list[0]\n",
    "    for a in list:\n",
    "        if a > max:\n",
    "            max = a\n",
    "    return max\n",
    "print(max_num_in_list([1, 4, 8, 0]));"
   ]
  },
  {
   "cell_type": "code",
   "execution_count": 12,
   "id": "7bd7dc2d",
   "metadata": {},
   "outputs": [
    {
     "name": "stdout",
     "output_type": "stream",
     "text": [
      "1\n",
      "1\n",
      "2\n",
      "3\n"
     ]
    }
   ],
   "source": [
    "#Q12. Write a program that print out all the elements of the list that are less than 5.\n",
    "a = [1, 1, 2, 3, 5, 8, 13, 21, 34, 55, 89]\n",
    "for i in a:\n",
    "    if i< 5:\n",
    "        print(i);"
   ]
  },
  {
   "cell_type": "code",
   "execution_count": null,
   "id": "87a0a20f",
   "metadata": {},
   "outputs": [],
   "source": []
  }
 ],
 "metadata": {
  "kernelspec": {
   "display_name": "Python 3",
   "language": "python",
   "name": "python3"
  },
  "language_info": {
   "codemirror_mode": {
    "name": "ipython",
    "version": 3
   },
   "file_extension": ".py",
   "mimetype": "text/x-python",
   "name": "python",
   "nbconvert_exporter": "python",
   "pygments_lexer": "ipython3",
   "version": "3.8.8"
  }
 },
 "nbformat": 4,
 "nbformat_minor": 5
}
